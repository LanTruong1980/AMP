{
 "cells": [
  {
   "cell_type": "code",
   "execution_count": null,
   "metadata": {},
   "outputs": [],
   "source": [
    "#This Python code is for the submitted manuscript:\n",
    "# The fundamental limits of sparse linear regression with sublinear sparsity,  Arxiv: https://arxiv.org/abs/2101.11156 \n",
    "# This program plots MMSE and the MSE of AMP as functions of beta (or alpha in the manuscript)"
   ]
  },
  {
   "cell_type": "code",
   "execution_count": 10,
   "metadata": {},
   "outputs": [],
   "source": [
    "import math\n",
    "import numpy as np\n",
    "from scipy import integrate\n",
    "import matplotlib.pyplot as plt\n",
    "\n"
   ]
  },
  {
   "cell_type": "code",
   "execution_count": 9,
   "metadata": {},
   "outputs": [],
   "source": [
    "n=300\n",
    "alpha=0.5  #alpha mean delta in the paper\n",
    "betavec=np.arange(0,1,0.1) #beta means alpha in the paper\n",
    "mvec=np.floor(alpha*(n**betavec))\n",
    "kvec=n**betavec\n",
    "snrdBvec=2*betavec #dB\n",
    "snrvec=10**(0.1*snrdBvec)\n",
    "Deltavec=alpha/snrvec"
   ]
  },
  {
   "cell_type": "code",
   "execution_count": 11,
   "metadata": {},
   "outputs": [],
   "source": [
    "# Draw the theoretical limit (MMSE)\n",
    "gap=10**(-2)\n",
    "tilE=np.zeros((len(betavec),1))\n",
    "count=0\n",
    "while count<len(betavec):\n",
    " beta=betavec[count]\n",
    " Delta=Deltavec[count]\n",
    " k=kvec[count]\n",
    " step=gap*Delta/n**(1-beta)\n",
    " Evec=np.arange(0,Delta/n**(1-beta),step) # Trace tilE(Delta)\n",
    " E=Evec[0]\n",
    " pphi=(alpha/2)*(np.log(1+E/Delta)-E/(E+Delta))\n",
    " Sigma=np.sqrt((E+Delta)/(alpha*(n**(beta-1)))) \n",
    " positivepart=lambda y: ((1-k/n)*(1/(Sigma*np.sqrt(2*math.pi)))*np.exp(-y**2/(2*Sigma**2))\\\n",
    "                        +(k/n)*(1/(2*Sigma*np.sqrt(2*math.pi)))\\\n",
    "                        *(np.exp(-(y-np.sqrt(Delta))**2/(2*Sigma**2))\\\n",
    "                        +np.exp(-(y+np.sqrt(Delta))**2/(2*Sigma**2)))\\\n",
    "                        *(np.log(1/(2*Sigma*np.sqrt(2*math.pi)))-(1/(2*Sigma**2))*(y-np.sqrt(Delta))**2 \\\n",
    "                        +np.log(2*(1-k/n)*np.exp((Delta-2*y*np.sqrt(Delta))/(2*Sigma**2))\\\n",
    "                        +(k/n)*(1+np.exp(-2*y*np.sqrt(Delta)/Sigma**2)))))\n",
    " iden1,err1=integrate.quad(positivepart, 0, np.inf)\n",
    " negativepart=lambda y: ((1-k/n)*(1/(Sigma*np.sqrt(2*math.pi)))*np.exp(-y**2/(2*Sigma**2))\\\n",
    "                        +(k/n)*(1/(2*Sigma*np.sqrt(2*math.pi)))\\\n",
    "                        *(np.exp(-(y-np.sqrt(Delta))**2/(2*Sigma**2))\\\n",
    "                        +np.exp(-(y+np.sqrt(Delta))**2/(2*Sigma**2)))\\\n",
    "                        *(np.log(1/(2*Sigma*np.sqrt(2*math.pi)))-(1/(2*Sigma**2))*(y+np.sqrt(Delta))**2 \\\n",
    "                        +np.log(2*(1-k/n)*np.exp((Delta+2*y*np.sqrt(Delta))/(2*Sigma**2))\\\n",
    "                        +(k/n)*(1+np.exp(2*y*np.sqrt(Delta)/Sigma**2)))))\n",
    " iden2,err2=integrate.quad(negativepart, -np.inf, 0)\n",
    " iden=-(iden1+iden2)-(1/2)*np.log(2*math.pi*np.exp(1)*Sigma**2)\n",
    " fRSmin=pphi+n**(1-beta)*iden\n",
    " tilEtemp=E   \n",
    " for t in range(1,len(Evec)-1,1):\n",
    "  E=Evec[t]\n",
    "  pphi=(alpha/2)*(np.log(1+E/Delta)-E/(E+Delta))\n",
    "  Sigma=np.sqrt((E+Delta)/(alpha*(n**(beta-1)))) \n",
    "  positivepart=lambda y: ((1-k/n)*(1/(Sigma*np.sqrt(2*math.pi)))*np.exp(-y**2/(2*Sigma**2))\\\n",
    "                        +(k/n)*(1/(2*Sigma*np.sqrt(2*math.pi)))\\\n",
    "                        *(np.exp(-(y-np.sqrt(Delta))**2/(2*Sigma**2))\\\n",
    "                        +np.exp(-(y+np.sqrt(Delta))**2/(2*Sigma**2)))\\\n",
    "                        *(np.log(1/(2*Sigma*np.sqrt(2*math.pi)))-(1/(2*Sigma**2))*(y-np.sqrt(Delta))**2 \\\n",
    "                        +np.log(2*(1-k/n)*np.exp((Delta-2*y*np.sqrt(Delta))/(2*Sigma**2))\\\n",
    "                        +(k/n)*(1+np.exp(-2*y*np.sqrt(Delta)/Sigma**2)))))\n",
    "  iden1,err1=integrate.quad(positivepart, 0, np.inf)\n",
    "  negativepart=lambda y: ((1-k/n)*(1/(Sigma*np.sqrt(2*math.pi)))*np.exp(-y**2/(2*Sigma**2))\\\n",
    "                        +(k/n)*(1/(2*Sigma*np.sqrt(2*math.pi)))\\\n",
    "                        *(np.exp(-(y-np.sqrt(Delta))**2/(2*Sigma**2))\\\n",
    "                        +np.exp(-(y+np.sqrt(Delta))**2/(2*Sigma**2)))\\\n",
    "                        *(np.log(1/(2*Sigma*np.sqrt(2*math.pi)))-(1/(2*Sigma**2))*(y+np.sqrt(Delta))**2 \\\n",
    "                        +np.log(2*(1-k/n)*np.exp((Delta+2*y*np.sqrt(Delta))/(2*Sigma**2))\\\n",
    "                        +(k/n)*(1+np.exp(2*y*np.sqrt(Delta)/Sigma**2)))))\n",
    "  iden2,err2=integrate.quad(negativepart, -np.inf, 0)\n",
    "  iden=-(iden1+iden2)-(1/2)*np.log(2*math.pi*np.exp(1)*Sigma**2)\n",
    "  fRS=pphi+n**(1-beta)*iden\n",
    "  if fRS<fRSmin:\n",
    "    tilEtemp=E\n",
    "    fRSmin=fRS\n",
    " tilE[count]=(n**(1-beta))*tilEtemp\n",
    " count+=1 "
   ]
  },
  {
   "cell_type": "code",
   "execution_count": 12,
   "metadata": {},
   "outputs": [],
   "source": [
    "def etafunanderielemt(x,k,n,tau,Delta):\n",
    " if x>=0:\n",
    "   yelemt=((1/2)*(k/n)*np.sqrt(Delta)*(1-np.exp(-2*x*np.sqrt(Delta)/tau**2)))/((1-k/n)*np.exp((Delta-2*x*np.sqrt(Delta))/(2*tau**2))\n",
    "                            +(1/2)*(k/n)*(1+np.exp(-2*x*np.sqrt(Delta)/tau**2)))\n",
    "   a=(Delta/(2*tau**2))*(k/n)*(1-k/n)*np.exp((Delta-2*x*np.sqrt(Delta))/(2*tau**2))\\\n",
    "               *(1+np.exp(-2*x*np.sqrt(Delta)/tau**2))\\\n",
    "               +(Delta/tau**2)*(k/n)**2*np.exp(-2*x*np.sqrt(Delta)/tau**2)\n",
    "   b=(((1-k/n)*np.exp((Delta-2*x*np.sqrt(Delta))/(2*tau**2))\\\n",
    "           +(1/2)*(k/n)*(1+np.exp(-2*x*np.sqrt(Delta)/(2*tau**2)))))**2\n",
    " else:\n",
    "   yelemt=((1/2)*(k/n)*np.sqrt(Delta)*(-1+np.exp(2*x*np.sqrt(Delta)/tau**2)))/((1-k/n)*np.exp((Delta+2*x*np.sqrt(Delta))/(2*tau**2))\n",
    "                            +(1/2)*(k/n)*(1+np.exp(2*x*np.sqrt(Delta)/tau**2)))\n",
    "   a=(Delta/(2*tau**2))*(k/n)*(1-k/n)*np.exp((Delta+2*x*np.sqrt(Delta))/(2*tau**2))\\\n",
    "               *(1+np.exp(2*x*np.sqrt(Delta)/tau**2))\\\n",
    "               +(Delta/tau**2)*(k/n)**2*np.exp(2*x*np.sqrt(Delta)/tau**2)\n",
    "   b=(((1-k/n)*np.exp((Delta+2*x*np.sqrt(Delta))/(2*tau**2))\\\n",
    "           +(1/2)*(k/n)*(1+np.exp(2*x*np.sqrt(Delta)/(2*tau**2)))))**2 \n",
    " yderielemt=a/b\n",
    " return yelemt,yderielemt   \n",
    "\n",
    "def etafunanderi(v,k,n,tau,Delta):\n",
    " yderitemp=np.zeros((len(v),1))\n",
    " y=np.zeros((len(v),1)) \n",
    " for i in range(len(v)):\n",
    "  y[i],yderitemp[i]=etafunanderielemt(v[i][0],k,n,tau,Delta)\n",
    " yderi=np.mean(yderitemp)\n",
    " return y,yderi\n",
    "\n",
    "# Run AMP (iter=10)\n",
    "MSE10=np.zeros((len(betavec),1)) #ALG1\n",
    "MSE11=np.zeros((len(betavec),1)) #Classical AMP\n",
    "for count in range(len(betavec)):\n",
    " beta=betavec[count]\n",
    " Delta=Deltavec[count]\n",
    " k=kvec[count]\n",
    " m=int(mvec[count]+1)\n",
    " maxouter=50\n",
    " MSEouter10=np.zeros(maxouter)\n",
    " MSEouter11=np.zeros(maxouter)\n",
    " out=0 \n",
    " while out<maxouter:\n",
    " # Generate S,A,y\n",
    "  s=np.zeros(n)\n",
    "  for i in range(n):\n",
    "   s[i]= np.random.binomial(1, k/n)\n",
    "   if s[i]==1:\n",
    "    s[i]=(2*np.random.binomial(1, 1/2)-1)*np.sqrt(Delta)\n",
    "  A=np.sqrt(1/(alpha*(n**beta)))*np.random.normal(0,1,size=(m,n))\n",
    "  W=np.random.normal(0,1,size=(m,1))\n",
    "  y=np.matmul(A,s)+ W*np.sqrt(Delta)\n",
    "  # Algorithm 1\n",
    "  xhat=np.zeros((n,1))\n",
    "  iterAMP=10\n",
    "  z=np.zeros((m,1))\n",
    "  iter=0\n",
    "  pderi=0\n",
    "  tau=np.sqrt(Delta+Delta/alpha)\n",
    "  while iter<iterAMP:\n",
    "    z=y-np.matmul(A,xhat)+(1/alpha)*z*pderi\n",
    "    h=np.matmul(A.transpose(),z)+xhat\n",
    "    p,pderi=etafunanderi(h,k,n,tau,Delta)  #etafunanderi(x,k,n,tau,Delta)\n",
    "    xhat=p\n",
    "    maxiter=1000\n",
    "    u=np.random.normal(size=(maxiter,1))\n",
    "    ma,deria=etafunanderi(tau*u,k,n,tau,Delta)  #etafunanderi(xi,k,n,tau,Delta):\n",
    "    mb,derib=etafunanderi(np.sqrt(Delta)+tau*u,k,n,tau,Delta)\n",
    "    mc,deric=etafunanderi(-np.sqrt(Delta)+tau*u,k,n,tau,Delta)\n",
    "    v=(1-k/n)*ma**2+(k/n)*(1/2)*((mb-np.sqrt(Delta))**2+(mc+np.sqrt(Delta))**2)\n",
    "    G=np.mean(v)\n",
    "    tau=np.sqrt(Delta+(n**(1-beta)/alpha)*G)\n",
    "    iter+=1\n",
    "  sumup=0\n",
    "  for i in range(len(s)):\n",
    "    sumup=sumup+(xhat[i]-s[i])**2\n",
    "  MSEouter10[out]=sumup/n**beta\n",
    "  # Classical AMP\n",
    "  xhat=np.zeros((n,1))\n",
    "  iterAMP=10\n",
    "  z=np.zeros((m,1))\n",
    "  iter=0\n",
    "  pderi=0\n",
    "  tau=np.sqrt(Delta+Delta/alpha)\n",
    "  while iter<iterAMP:\n",
    "    z=y-np.matmul(A,xhat)+(1/alpha)*z*pderi\n",
    "    h=np.matmul(A.transpose(),z)+xhat\n",
    "    p,pderi=etafunanderi(h,k,n,tau,Delta)  #etafunanderi(x,k,n,tau,Delta)\n",
    "    xhat=p\n",
    "    maxiter=1000\n",
    "    u=np.random.normal(size=(maxiter,1))\n",
    "    ma,deria=etafunanderi(tau*u,k,n,tau,Delta)  #etafunanderi(xi,k,n,tau,Delta):\n",
    "    mb,derib=etafunanderi(np.sqrt(Delta)+tau*u,k,n,tau,Delta)\n",
    "    mc,deric=etafunanderi(-np.sqrt(Delta)+tau*u,k,n,tau,Delta)\n",
    "    v=(1-k/n)*ma**2+(k/n)*(1/2)*((mb-np.sqrt(Delta))**2+(mc+np.sqrt(Delta))**2)\n",
    "    G=np.mean(v)\n",
    "    tau=np.sqrt(Delta+(1/alpha)*G)\n",
    "    iter+=1\n",
    "  sumup=0\n",
    "  for i in range(len(s)):\n",
    "    sumup=sumup+(xhat[i]-s[i])**2\n",
    "  MSEouter11[out]=sumup/n**beta\n",
    "  out+=1 #outer loop\n",
    "  MSE10[count]=np.mean(MSEouter10)\n",
    "  MSE11[count]=np.mean(MSEouter11)   "
   ]
  },
  {
   "cell_type": "code",
   "execution_count": 167,
   "metadata": {},
   "outputs": [],
   "source": [
    "#State Evolutions\n",
    "SE=np.zeros(len(betavec)) # State Evolution\n",
    "for count in range(len(betavec)):\n",
    " beta=betavec[count]\n",
    " Delta=Deltavec[count]\n",
    " tau=np.sqrt(Delta+Delta/alpha)\n",
    " iterAMP=10\n",
    " while iter<iterAMP:\n",
    "    maxiter=1000\n",
    "    u=np.random.normal(size=(maxiter,1))\n",
    "    ma,deria=etafunanderi(tau*u,k,n,tau,Delta)  #etafunanderi(xi,k,n,tau,Delta):\n",
    "    mb,derib=etafunanderi(np.sqrt(Delta)+tau*u,k,n,tau,Delta)\n",
    "    mc,deric=etafunanderi(-np.sqrt(Delta)+tau*u,k,n,tau,Delta)\n",
    "    v=(1-k/n)*ma**2+(k/n)*(1/2)*((mb-np.sqrt(Delta))**2+(mc+np.sqrt(Delta))**2)\n",
    "    G=np.mean(v)\n",
    "    tau=np.sqrt(Delta+(n**(1-beta)/alpha)*G)\n",
    "    iter+=1\n",
    " SE[count]=alpha*(tau**2-Delta)\n",
    " "
   ]
  },
  {
   "cell_type": "code",
   "execution_count": 181,
   "metadata": {},
   "outputs": [
    {
     "data": {
      "image/png": "[encoded data removed]",
      "text/plain": [
       "<Figure size 432x288 with 1 Axes>"
      ]
     },
     "metadata": {
      "needs_background": "light"
     },
     "output_type": "display_data"
    }
   ],
   "source": [
    "fig, ax = plt.subplots()\n",
    "ax.plot(betavec,tilE,'b-o',betavec,MSE10,'g:x',betavec,SE,'r--',linewidth=2)\n",
    "#ax.plot(betavec,SE,'g--*',linewidth=2)\n",
    "#ax.plot(betavec,MSE10,'b:x',betavec,SE,'r--*', betavec,tilE,'b-o',linewidth=2)\n",
    "#ax.plot(betavec,MSE10,'b:x',betavec,SE,'r--*', betavec,tilE,'b-o',linewidth=2)\n",
    "ax.set_xlabel(r'$\\alpha$') #corresponding to alpha in the manuscript\n",
    "ax.set_ylabel('MSE')\n",
    "plt.legend(('Algorithm 1 (10 iterations)','State Evolution','Fundamental Limit'))\n",
    "#ax.set_xlim((0.4, 1))\n",
    "#ax.set_ylim((0, 1))\n",
    "ax.grid(True)\n",
    "plt.savefig(\"JML2021supnew.pdf\") #JML2021sup (old)"
   ]
  },
  {
   "cell_type": "code",
   "execution_count": 13,
   "metadata": {},
   "outputs": [
    {
     "ename": "NameError",
     "evalue": "name 'SE' is not defined",
     "output_type": "error",
     "traceback": [
      "\u001b[1;31m---------------------------------------------------------------------------\u001b[0m",
      "\u001b[1;31mNameError\u001b[0m                                 Traceback (most recent call last)",
      "\u001b[1;32m<ipython-input-13-eed19ed3cd99>\u001b[0m in \u001b[0;36m<module>\u001b[1;34m\u001b[0m\n\u001b[0;32m      2\u001b[0m \u001b[1;31m#ax.plot(betavec,tilE,'b-o',betavec,MSE10,'m:x',betavec,MSE11,'r-.+',betavec,SE,'g--*',linewidth=2)\u001b[0m\u001b[1;33m\u001b[0m\u001b[1;33m\u001b[0m\u001b[1;33m\u001b[0m\u001b[0m\n\u001b[0;32m      3\u001b[0m \u001b[0mL\u001b[0m\u001b[1;33m=\u001b[0m\u001b[0mlen\u001b[0m\u001b[1;33m(\u001b[0m\u001b[0mbetavec\u001b[0m\u001b[1;33m)\u001b[0m\u001b[1;33m\u001b[0m\u001b[1;33m\u001b[0m\u001b[0m\n\u001b[1;32m----> 4\u001b[1;33m \u001b[0max\u001b[0m\u001b[1;33m.\u001b[0m\u001b[0mplot\u001b[0m\u001b[1;33m(\u001b[0m\u001b[0mbetavec\u001b[0m\u001b[1;33m[\u001b[0m\u001b[1;36m1\u001b[0m\u001b[1;33m:\u001b[0m\u001b[0mL\u001b[0m\u001b[1;33m-\u001b[0m\u001b[1;36m1\u001b[0m\u001b[1;33m]\u001b[0m\u001b[1;33m,\u001b[0m\u001b[0mtilE\u001b[0m\u001b[1;33m[\u001b[0m\u001b[1;36m1\u001b[0m\u001b[1;33m:\u001b[0m\u001b[0mL\u001b[0m\u001b[1;33m-\u001b[0m\u001b[1;36m1\u001b[0m\u001b[1;33m]\u001b[0m\u001b[1;33m,\u001b[0m\u001b[1;34m'b-o'\u001b[0m\u001b[1;33m,\u001b[0m\u001b[0mbetavec\u001b[0m\u001b[1;33m[\u001b[0m\u001b[1;36m1\u001b[0m\u001b[1;33m:\u001b[0m\u001b[0mL\u001b[0m\u001b[1;33m-\u001b[0m\u001b[1;36m1\u001b[0m\u001b[1;33m]\u001b[0m\u001b[1;33m,\u001b[0m\u001b[0mSE\u001b[0m\u001b[1;33m[\u001b[0m\u001b[1;36m1\u001b[0m\u001b[1;33m:\u001b[0m\u001b[0mL\u001b[0m\u001b[1;33m-\u001b[0m\u001b[1;36m1\u001b[0m\u001b[1;33m]\u001b[0m\u001b[1;33m,\u001b[0m\u001b[1;34m'g--*'\u001b[0m\u001b[1;33m,\u001b[0m\u001b[0mlinewidth\u001b[0m\u001b[1;33m=\u001b[0m\u001b[1;36m2\u001b[0m\u001b[1;33m)\u001b[0m\u001b[1;33m\u001b[0m\u001b[1;33m\u001b[0m\u001b[0m\n\u001b[0m\u001b[0;32m      5\u001b[0m \u001b[1;31m#ax.plot(betavec,MSE10,'b:x',betavec,MSE11,'r-.+', linewidth=2)\u001b[0m\u001b[1;33m\u001b[0m\u001b[1;33m\u001b[0m\u001b[1;33m\u001b[0m\u001b[0m\n\u001b[0;32m      6\u001b[0m \u001b[0max\u001b[0m\u001b[1;33m.\u001b[0m\u001b[0mset_xlabel\u001b[0m\u001b[1;33m(\u001b[0m\u001b[1;34mr'$\\alpha$'\u001b[0m\u001b[1;33m)\u001b[0m \u001b[1;31m#corresponding to alpha in the manuscript\u001b[0m\u001b[1;33m\u001b[0m\u001b[1;33m\u001b[0m\u001b[0m\n",
      "\u001b[1;31mNameError\u001b[0m: name 'SE' is not defined"
     ]
    },
    {
     "data": {
      "image/png": "[encoded data removed]",
      "text/plain": [
       "<Figure size 432x288 with 1 Axes>"
      ]
     },
     "metadata": {
      "needs_background": "light"
     },
     "output_type": "display_data"
    }
   ],
   "source": [
    "fig, ax = plt.subplots()\n",
    "#ax.plot(betavec,tilE,'b-o',betavec,MSE10,'m:x',betavec,MSE11,'r-.+',betavec,SE,'g--*',linewidth=2)\n",
    "L=len(betavec)\n",
    "ax.plot(betavec[1:L-1],tilE[1:L-1],'b-o',betavec[1:L-1],SE[1:L-1],'g--*',linewidth=2)\n",
    "#ax.plot(betavec,MSE10,'b:x',betavec,MSE11,'r-.+', linewidth=2)\n",
    "ax.set_xlabel(r'$\\alpha$') #corresponding to alpha in the manuscript\n",
    "ax.set_ylabel('MSE')\n",
    "plt.legend(('Fundamental Limit','State Evolution'))\n",
    "#ax.set_xlim((0.1, 0.9))\n",
    "#ax.set_ylim((0.3, 0.4))\n",
    "ax.grid(True)\n",
    "plt.savefig(\"JML2021SE.pdf\")"
   ]
  },
  {
   "cell_type": "code",
   "execution_count": null,
   "metadata": {},
   "outputs": [],
   "source": []
  }
 ],
 "metadata": {
  "kernelspec": {
   "display_name": "Python 3",
   "language": "python",
   "name": "python3"
  },
  "language_info": {
   "codemirror_mode": {
    "name": "ipython",
    "version": 3
   },
   "file_extension": ".py",
   "mimetype": "text/x-python",
   "name": "python",
   "nbconvert_exporter": "python",
   "pygments_lexer": "ipython3",
   "version": "3.8.3"
  }
 },
 "nbformat": 4,
 "nbformat_minor": 4
}
